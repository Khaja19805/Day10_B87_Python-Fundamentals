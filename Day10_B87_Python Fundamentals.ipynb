{
 "cells": [
  {
   "cell_type": "code",
   "execution_count": 1,
   "id": "b13d234a-4058-4d95-93ec-7ced4ae098f3",
   "metadata": {},
   "outputs": [],
   "source": [
    "def describe_pet(animal_type,pet_name):\n",
    "    \"\"\"describe the information about the pet\"\"\"\n",
    "    print(f\"\\nI have a {animal_type}\")\n",
    "    print(f\"my {animal_type}'s name is {pet_name}\")"
   ]
  },
  {
   "cell_type": "code",
   "execution_count": null,
   "id": "2defae2f-9fa5-4bda-8830-0ec9012ccdb7",
   "metadata": {},
   "outputs": [],
   "source": []
  },
  {
   "cell_type": "code",
   "execution_count": 2,
   "id": "6d325d37-5eab-4324-acb8-91cd7eb9f0cd",
   "metadata": {},
   "outputs": [
    {
     "name": "stdout",
     "output_type": "stream",
     "text": [
      "\n",
      "I have a dog\n",
      "my dog's name is bruno\n"
     ]
    }
   ],
   "source": [
    "describe_pet('dog','bruno')"
   ]
  },
  {
   "cell_type": "code",
   "execution_count": 3,
   "id": "a8c54778-2f79-4d3e-94ae-920b8f2bf249",
   "metadata": {},
   "outputs": [
    {
     "ename": "TypeError",
     "evalue": "describe_pet() missing 1 required positional argument: 'pet_name'",
     "output_type": "error",
     "traceback": [
      "\u001b[0;31m---------------------------------------------------------------------------\u001b[0m",
      "\u001b[0;31mTypeError\u001b[0m                                 Traceback (most recent call last)",
      "Cell \u001b[0;32mIn[3], line 1\u001b[0m\n\u001b[0;32m----> 1\u001b[0m \u001b[43mdescribe_pet\u001b[49m\u001b[43m(\u001b[49m\u001b[38;5;124;43m'\u001b[39;49m\u001b[38;5;124;43mrex\u001b[39;49m\u001b[38;5;124;43m'\u001b[39;49m\u001b[43m)\u001b[49m\n",
      "\u001b[0;31mTypeError\u001b[0m: describe_pet() missing 1 required positional argument: 'pet_name'"
     ]
    }
   ],
   "source": [
    "describe_pet('rex')"
   ]
  },
  {
   "cell_type": "code",
   "execution_count": 4,
   "id": "5106e4b9-303b-4e44-a32c-c86e137f77f0",
   "metadata": {},
   "outputs": [],
   "source": [
    "def describe_pet(pet_name,animal_type='dog'):\n",
    "    \"\"\"describe the information about the pet\"\"\"\n",
    "    print(f\"\\nI have a {animal_type}\")\n",
    "    print(f\"my {animal_type}'s name is {pet_name}\")"
   ]
  },
  {
   "cell_type": "code",
   "execution_count": null,
   "id": "68f1dac2-1a62-4294-a739-37bdd127e842",
   "metadata": {},
   "outputs": [],
   "source": []
  },
  {
   "cell_type": "code",
   "execution_count": 5,
   "id": "b14a2b5c-4cdb-4dc7-9471-f0305d3dac6d",
   "metadata": {},
   "outputs": [
    {
     "name": "stdout",
     "output_type": "stream",
     "text": [
      "\n",
      "I have a dog\n",
      "my dog's name is rex\n"
     ]
    }
   ],
   "source": [
    "describe_pet('rex')"
   ]
  },
  {
   "cell_type": "code",
   "execution_count": 6,
   "id": "596b77ab-9df2-4618-8ac6-c16b4025df38",
   "metadata": {},
   "outputs": [
    {
     "name": "stdout",
     "output_type": "stream",
     "text": [
      "\n",
      "I have a cat\n",
      "my cat's name is bruno\n"
     ]
    }
   ],
   "source": [
    "describe_pet('bruno','cat')"
   ]
  },
  {
   "cell_type": "code",
   "execution_count": 7,
   "id": "fbeae4ca-0645-4d0b-8bfc-9061781d95be",
   "metadata": {},
   "outputs": [],
   "source": [
    "#req: take a firstname and lastname and return it with a neatly formatted name..."
   ]
  },
  {
   "cell_type": "code",
   "execution_count": 8,
   "id": "c54de67a-0ef8-407f-8b9f-fe8eec0706d8",
   "metadata": {},
   "outputs": [],
   "source": [
    "def get_formatted_name(first_name,lastname):\n",
    "    \"\"\"return a fullname neatly formatted\"\"\"\n",
    "    full_name = f\"{first_name} {lastname}\"\n",
    "    return full_name.title()"
   ]
  },
  {
   "cell_type": "code",
   "execution_count": null,
   "id": "dda32a0c-91a0-4907-b219-6a11c6b745c2",
   "metadata": {},
   "outputs": [],
   "source": []
  },
  {
   "cell_type": "code",
   "execution_count": 9,
   "id": "41407c20-4d52-4484-adb3-d3186e4f519d",
   "metadata": {},
   "outputs": [
    {
     "name": "stdout",
     "output_type": "stream",
     "text": [
      "Sai Kiran\n"
     ]
    }
   ],
   "source": [
    "person = get_formatted_name('sai','kiran')\n",
    "print(person)"
   ]
  },
  {
   "cell_type": "code",
   "execution_count": 10,
   "id": "13139bb5-e6ae-4479-9255-5680908a2f20",
   "metadata": {},
   "outputs": [],
   "source": [
    "#Passing Arbitary no of arguments #req:"
   ]
  },
  {
   "cell_type": "code",
   "execution_count": 11,
   "id": "e812ca5c-239e-4896-adac-cd8ca67fe281",
   "metadata": {},
   "outputs": [],
   "source": [
    "def make_pizza(toppings):\n",
    "    \"\"\"print the list of toppings that has been requested\"\"\"\n",
    "    print(toppings)"
   ]
  },
  {
   "cell_type": "code",
   "execution_count": null,
   "id": "9fb8162d-9d45-44f4-82a9-3c16cfb8833c",
   "metadata": {},
   "outputs": [],
   "source": []
  },
  {
   "cell_type": "code",
   "execution_count": 12,
   "id": "03671b5e-c997-437d-aeb9-9325e61431f2",
   "metadata": {},
   "outputs": [
    {
     "name": "stdout",
     "output_type": "stream",
     "text": [
      "olives\n"
     ]
    }
   ],
   "source": [
    "make_pizza('olives')"
   ]
  },
  {
   "cell_type": "code",
   "execution_count": 13,
   "id": "c98aedbc-332a-4051-a18d-35016b578a10",
   "metadata": {},
   "outputs": [
    {
     "ename": "TypeError",
     "evalue": "make_pizza() takes 1 positional argument but 2 were given",
     "output_type": "error",
     "traceback": [
      "\u001b[0;31m---------------------------------------------------------------------------\u001b[0m",
      "\u001b[0;31mTypeError\u001b[0m                                 Traceback (most recent call last)",
      "Cell \u001b[0;32mIn[13], line 1\u001b[0m\n\u001b[0;32m----> 1\u001b[0m \u001b[43mmake_pizza\u001b[49m\u001b[43m(\u001b[49m\u001b[38;5;124;43m'\u001b[39;49m\u001b[38;5;124;43molives\u001b[39;49m\u001b[38;5;124;43m'\u001b[39;49m\u001b[43m,\u001b[49m\u001b[38;5;124;43m'\u001b[39;49m\u001b[38;5;124;43mcorn\u001b[39;49m\u001b[38;5;124;43m'\u001b[39;49m\u001b[43m)\u001b[49m\n",
      "\u001b[0;31mTypeError\u001b[0m: make_pizza() takes 1 positional argument but 2 were given"
     ]
    }
   ],
   "source": [
    "make_pizza('olives','corn')"
   ]
  },
  {
   "cell_type": "code",
   "execution_count": 14,
   "id": "80a44f2d-94e0-44fb-9856-9b5d69ca4442",
   "metadata": {},
   "outputs": [],
   "source": [
    "def make_pizza(*toppings):\n",
    "    \"\"\"print the list of toppings that has been requested\"\"\"\n",
    "    print(toppings)"
   ]
  },
  {
   "cell_type": "code",
   "execution_count": 15,
   "id": "f0ac69c2-e3b2-4a36-9ce5-f885516234d8",
   "metadata": {},
   "outputs": [
    {
     "name": "stdout",
     "output_type": "stream",
     "text": [
      "('olives', 'corn', 'onion')\n"
     ]
    }
   ],
   "source": [
    "make_pizza('olives','corn','onion')"
   ]
  },
  {
   "cell_type": "code",
   "execution_count": 16,
   "id": "a91f2aed-e9dc-49c5-a233-2db7a14f470c",
   "metadata": {},
   "outputs": [],
   "source": [
    "def make_pizza(*toppings):\n",
    "    \"\"\"Summarize the pizza that i wnat to make\"\"\"\n",
    "    print(\"\\nMaking the pizza with the below toppings\")\n",
    "    for a in toppings:\n",
    "        print(f\" -{a}\")"
   ]
  },
  {
   "cell_type": "code",
   "execution_count": null,
   "id": "c9fddd30-b2e9-4370-8612-060ba48a157d",
   "metadata": {},
   "outputs": [],
   "source": []
  },
  {
   "cell_type": "code",
   "execution_count": 17,
   "id": "3763e4f9-fe2b-4909-b5b2-8fcc557036ea",
   "metadata": {},
   "outputs": [
    {
     "name": "stdout",
     "output_type": "stream",
     "text": [
      "\n",
      "Making the pizza with the below toppings\n",
      " -olives\n",
      " -corn\n",
      " -onion\n"
     ]
    }
   ],
   "source": [
    "make_pizza('olives','corn','onion')"
   ]
  },
  {
   "cell_type": "code",
   "execution_count": 18,
   "id": "7ef301ce-a2b1-4e42-ba23-40ebc2fe0e88",
   "metadata": {},
   "outputs": [],
   "source": [
    "#mixing positional and arbitary arguments"
   ]
  },
  {
   "cell_type": "code",
   "execution_count": 19,
   "id": "c6ea826b-34ed-4bad-94b8-f129d80d0b21",
   "metadata": {},
   "outputs": [],
   "source": [
    "def make_pizza(size,*toppings):\n",
    "    \"\"\"Summarize the pizza that i wnat to make\"\"\"\n",
    "    print(f\"\\nMaking a {size} inch pizza with the below toppings\")\n",
    "    for a in toppings:\n",
    "        print(f\" -{a}\")"
   ]
  },
  {
   "cell_type": "code",
   "execution_count": 20,
   "id": "cbaa4141-750c-4da2-871e-affe2352b3da",
   "metadata": {},
   "outputs": [
    {
     "name": "stdout",
     "output_type": "stream",
     "text": [
      "\n",
      "Making a 12 inch pizza with the below toppings\n",
      " -olive\n",
      " -corn\n",
      " -onion\n"
     ]
    }
   ],
   "source": [
    "make_pizza(12,'olive','corn','onion')"
   ]
  },
  {
   "cell_type": "code",
   "execution_count": null,
   "id": "c0db5cbf-e04b-43bf-a6fb-f116c18fe467",
   "metadata": {},
   "outputs": [],
   "source": []
  }
 ],
 "metadata": {
  "kernelspec": {
   "display_name": "anaconda-2024.02-py310",
   "language": "python",
   "name": "conda-env-anaconda-2024.02-py310-py"
  },
  "language_info": {
   "codemirror_mode": {
    "name": "ipython",
    "version": 3
   },
   "file_extension": ".py",
   "mimetype": "text/x-python",
   "name": "python",
   "nbconvert_exporter": "python",
   "pygments_lexer": "ipython3",
   "version": "3.10.14"
  }
 },
 "nbformat": 4,
 "nbformat_minor": 5
}
